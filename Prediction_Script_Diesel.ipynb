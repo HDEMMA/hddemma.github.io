{
  "nbformat": 4,
  "nbformat_minor": 0,
  "metadata": {
    "kernelspec": {
      "display_name": "Python 3",
      "language": "python",
      "name": "python3"
    },
    "language_info": {
      "codemirror_mode": {
        "name": "ipython",
        "version": 3
      },
      "file_extension": ".py",
      "mimetype": "text/x-python",
      "name": "python",
      "nbconvert_exporter": "python",
      "pygments_lexer": "ipython3",
      "version": "3.8.2"
    },
    "colab": {
      "name": "Prediction_Script_Diesel.ipynb",
      "provenance": [],
      "include_colab_link": true
    }
  },
  "cells": [
    {
      "cell_type": "markdown",
      "metadata": {
        "id": "view-in-github",
        "colab_type": "text"
      },
      "source": [
        "<a href=\"https://colab.research.google.com/github/hdemma/hdemma.github.io/blob/master/Prediction_Script_Diesel.ipynb\" target=\"_parent\"><img src=\"https://colab.research.google.com/assets/colab-badge.svg\" alt=\"Open In Colab\"/></a>"
      ]
    },
    {
      "cell_type": "markdown",
      "metadata": {
        "collapsed": true,
        "id": "CrboWmZEIJgV",
        "colab_type": "text"
      },
      "source": [
        "# Libraries"
      ]
    },
    {
      "cell_type": "code",
      "metadata": {
        "id": "KwyJbtuvIJgW",
        "colab_type": "code",
        "colab": {
          "base_uri": "https://localhost:8080/",
          "height": 34
        },
        "outputId": "029fa662-beef-4682-da6c-dc873c53c14e"
      },
      "source": [
        "import pandas as pd\n",
        "import matplotlib.pyplot as plt\n",
        "import numpy as np\n",
        "import pickle\n",
        "\n",
        "from keras.models import load_model\n",
        "import math\n",
        "\n",
        "from sklearn.model_selection import train_test_split\n",
        "from sklearn.linear_model import LinearRegression\n",
        "from sklearn.tree import DecisionTreeRegressor\n",
        "from sklearn.metrics import mean_squared_error\n",
        "from sklearn.metrics import mean_absolute_error\n",
        "\n",
        "from keras.models import Sequential,load_model\n",
        "\n",
        "from keras.layers import Dense, Dropout, LSTM\n",
        "from keras.callbacks import ModelCheckpoint"
      ],
      "execution_count": 1,
      "outputs": [
        {
          "output_type": "stream",
          "text": [
            "Using TensorFlow backend.\n"
          ],
          "name": "stderr"
        }
      ]
    },
    {
      "cell_type": "markdown",
      "metadata": {
        "id": "j67SDXwvIJgZ",
        "colab_type": "text"
      },
      "source": [
        "# Load Data Set"
      ]
    },
    {
      "cell_type": "code",
      "metadata": {
        "id": "fP3QeOCdIJga",
        "colab_type": "code",
        "colab": {
          "base_uri": "https://localhost:8080/",
          "height": 34
        },
        "outputId": "c51a05e9-0176-4b71-d28d-7d12cac30920"
      },
      "source": [
        "Vehicle_Type = 'Diesel_Vehicles'\n",
        "Folder = '..Dataset/SampleData'\n",
        "\n",
        "url = 'https://raw.githubusercontent.com/hdemma/hdemma.github.io/develop/Dataset/Diesel_Vehicles/Diesel_Vehicles_Final_Training_Samples.csv'\n",
        "df = pd.read_csv(url)\n",
        "print(len(df))"
      ],
      "execution_count": 3,
      "outputs": [
        {
          "output_type": "stream",
          "text": [
            "54741\n"
          ],
          "name": "stdout"
        }
      ]
    },
    {
      "cell_type": "markdown",
      "metadata": {
        "id": "2ZFNM8_HIJgc",
        "colab_type": "text"
      },
      "source": [
        "# Processsing Inputs and Labels"
      ]
    },
    {
      "cell_type": "code",
      "metadata": {
        "id": "AINsCvluIJgd",
        "colab_type": "code",
        "colab": {
          "base_uri": "https://localhost:8080/",
          "height": 119
        },
        "outputId": "31b8bb5e-a86c-4a93-dbad-e78e043574c2"
      },
      "source": [
        "df = df.values.tolist()\n",
        "DataSet = np.array(df,dtype=float)\n",
        "\n",
        "print('*******************************')\n",
        "\n",
        "Tupple = np.shape(DataSet)                  #34011 Segments x 18 Features\n",
        "Number_of_Records = Tupple[0]\n",
        "Number_of_Features = Tupple[1]\n",
        "\n",
        "print(f'Number_of_Records = {Number_of_Records}')\n",
        "print(f'Number_of_Features = {Number_of_Features}')\n",
        "\n",
        "\n",
        "#Processing Sample_Inputs without Target Feature\n",
        "\n",
        "X = np.zeros((Number_of_Records, Number_of_Features - 1))\n",
        "for t in range(Number_of_Records):\n",
        "    X[t] = DataSet[t, :(Number_of_Features-1)]\n",
        "\n",
        "print(f'Input_Size = {np.shape(X)}')\n",
        "\n",
        "#Processings Sample_Lables with Target feature ('Fuel_Consumed')\n",
        "\n",
        "y = np.zeros((Number_of_Records,))\n",
        "for t in range(Number_of_Records):\n",
        "    y[t] = DataSet[t][Number_of_Features-1]\n",
        "\n",
        "print(f'Label_Size = {np.shape(y)}')\n",
        "\n",
        "\n",
        "print('*******************************')"
      ],
      "execution_count": 4,
      "outputs": [
        {
          "output_type": "stream",
          "text": [
            "*******************************\n",
            "Number_of_Records = 54741\n",
            "Number_of_Features = 23\n",
            "Input_Size = (54741, 22)\n",
            "Label_Size = (54741,)\n",
            "*******************************\n"
          ],
          "name": "stdout"
        }
      ]
    },
    {
      "cell_type": "markdown",
      "metadata": {
        "id": "reONugrfIJgf",
        "colab_type": "text"
      },
      "source": [
        "# Random Train-Test Split"
      ]
    },
    {
      "cell_type": "code",
      "metadata": {
        "id": "SitBP7uQIJgf",
        "colab_type": "code",
        "colab": {
          "base_uri": "https://localhost:8080/",
          "height": 85
        },
        "outputId": "35942f82-ca8b-4f23-dd23-7f0afb65c37f"
      },
      "source": [
        "X_train, X_test, y_train, y_test = train_test_split(X, y, test_size=0.2, random_state=1)\n",
        "\n",
        "print(f'Training_Input = {np.shape(X_train)}')\n",
        "print(f'Training_Labels = {np.shape(y_train)}')\n",
        "\n",
        "print(f'Testing_inputs = {np.shape(X_test)}')\n",
        "print(f'Testing_Labels = {np.shape(y_test)}')"
      ],
      "execution_count": 5,
      "outputs": [
        {
          "output_type": "stream",
          "text": [
            "Training_Input = (43792, 22)\n",
            "Training_Labels = (43792,)\n",
            "Testing_inputs = (10949, 22)\n",
            "Testing_Labels = (10949,)\n"
          ],
          "name": "stdout"
        }
      ]
    },
    {
      "cell_type": "markdown",
      "metadata": {
        "id": "C0jltPRiIJgi",
        "colab_type": "text"
      },
      "source": [
        "# Removing Time_Needed Feature"
      ]
    },
    {
      "cell_type": "code",
      "metadata": {
        "id": "ugXuGNIZIJgi",
        "colab_type": "code",
        "colab": {
          "base_uri": "https://localhost:8080/",
          "height": 85
        },
        "outputId": "4657d091-49d4-4eaf-bd74-03b0f6439c3d"
      },
      "source": [
        "# Saving Time Needed for predicting for samples with longer intervals\n",
        "Time_needed = []\n",
        "\n",
        "for i in X_test:\n",
        "    Time_needed.append(i[1])\n",
        "\n",
        "print(np.shape(Time_needed))\n",
        "\n",
        "#Deleting Time_Needed before Training\n",
        "\n",
        "X_train = np.delete(X_train, 1, 1)\n",
        "X_test = np.delete(X_test, 1, 1)\n",
        "\n",
        "print(np.shape(X_train))\n",
        "print(np.shape(y_train))\n",
        "\n",
        "T = np.shape(X_test) #For Plotting\n",
        "\n",
        "print(T)\n",
        "\n",
        "Length_of_TestData = T[0]"
      ],
      "execution_count": 6,
      "outputs": [
        {
          "output_type": "stream",
          "text": [
            "(10949,)\n",
            "(43792, 21)\n",
            "(43792,)\n",
            "(10949, 21)\n"
          ],
          "name": "stdout"
        }
      ]
    },
    {
      "cell_type": "markdown",
      "metadata": {
        "id": "izVGpseKIJgk",
        "colab_type": "text"
      },
      "source": [
        "# ANN Model - Feed Forward"
      ]
    },
    {
      "cell_type": "code",
      "metadata": {
        "id": "_EVLzgokIJgl",
        "colab_type": "code",
        "colab": {}
      },
      "source": [
        "def SimpleFeedForward_Model():\n",
        "\n",
        "  if Train:\n",
        "\n",
        "    FF_model = Sequential()\n",
        "\n",
        "    FF_model.add(Dense(400,  input_dim=Number_of_Features-2, activation=\"sigmoid\"))\n",
        "    FF_model.add(Dense(200,  activation=\"sigmoid\"))\n",
        "    FF_model.add(Dense(100, activation=\"sigmoid\"))\n",
        "    FF_model.add(Dense(50, activation=\"sigmoid\"))\n",
        "    FF_model.add(Dense(25, activation=\"sigmoid\"))\n",
        "    FF_model.add(Dense(1, activation = \"linear\"))\n",
        "\n",
        "    optimizer = keras.optimizers.SGD(lr=0.1, momentum=0.00001)\n",
        "\n",
        "    FF_model.compile(loss=\"mean_squared_error\", optimizer = 'adam', metrics=['mse', 'mae'])\n",
        "\n",
        "    FF_model = f'FF_model_{epoch:03d}_{loss:03f}_{val_loss:03f}.h5'\n",
        "    checkpoint = ModelCheckpoint(f'{Folder}/FF_model_{epoch:03d}_{loss:03f}_{val_loss:03f}.h5', verbose=1, monitor='val_loss',\n",
        "                                 save_best_only=True, mode='auto')\n",
        "    \n",
        "    history = FF_model.fit(X_train, y_train,\n",
        "        shuffle=True,\n",
        "        epochs=600,\n",
        "        batch_size=128,\n",
        "        # validation_split=0.05,\n",
        "        validation_data=(X_test,y_test),\n",
        "        callbacks=[checkpoint],\n",
        "        verbose=2)\n",
        "\n",
        "\n",
        "\n",
        "    print(history.history.keys())\n",
        "\n",
        "    plt.plot(history.history['mean_squared_error'])\n",
        "    plt.plot(history.history['val_mean_squared_error'])\n",
        "    plt.title('mean_squared_error')\n",
        "    plt.xlabel('Iteration')\n",
        "    plt.legend(['Train', 'Test'], loc='upper left')\n",
        "    plt.show()\n",
        "\n",
        "    plt.plot(history.history['mean_absolute_error'])\n",
        "    plt.plot(history.history['val_mean_absolute_error'])\n",
        "    plt.title('mean_absolute_error')\n",
        "    plt.xlabel('Iteration')\n",
        "    plt.legend(['Train', 'Test'], loc='upper left')\n",
        "    plt.show()\n",
        "\n",
        "    # # summarize history for loss\n",
        "    plt.plot(history.history['loss'])\n",
        "    plt.plot(history.history['val_loss'])\n",
        "    plt.title('Model Loss')\n",
        "    plt.ylabel('Loss')\n",
        "    plt.xlabel('Iteration')\n",
        "    plt.legend(['Train', 'Test'], loc='upper left')\n",
        "\n",
        "    plt.show()\n",
        "\n",
        "    print(\"Saved model to disk\")\n",
        "\n",
        "    y_pred = FF_model.predict(X_test, verbose=2, batch_size=128)\n",
        "\n",
        "    return y_pred\n",
        "\n",
        "  else:\n",
        "    #### load model\n",
        "\n",
        "    url = 'https://github.com/hdemma/hdemma.github.io/blob/develop/Dataset/PredictionModels/Diesel/FF_model-765-0.000677-0.000736.h5'\n",
        "\n",
        "    FF_model = load_model(url)\n",
        "\n",
        "    print(\"MSE\\t\\tMAE\")\n",
        "\n",
        "    scores = FF_model.evaluate(X_train, y_train, verbose=2)\n",
        "    print(\"Tarining Set Loss: {}\".format(scores))\n",
        "\n",
        "    scores = FF_model.evaluate(X_test, y_test, verbose=2)\n",
        "    print(\"Testing Set Loss: {}\".format(scores))\n",
        "\n",
        "    y_pred = FF_model.predict(X_test, verbose=2, batch_size=128)\n",
        "\n",
        "    return y_pred"
      ],
      "execution_count": 0,
      "outputs": []
    },
    {
      "cell_type": "markdown",
      "metadata": {
        "id": "ZQ1tACtyIJgn",
        "colab_type": "text"
      },
      "source": [
        "# Decision Tree Model"
      ]
    },
    {
      "cell_type": "code",
      "metadata": {
        "id": "zrGT244cIJgo",
        "colab_type": "code",
        "colab": {}
      },
      "source": [
        "def DecisionTree_Model():\n",
        "  \n",
        "  # filename = f'{Folder}/PredictionModels/Diesel/finalized_DT_model.sav'\n",
        "  if Train:\n",
        "    DT_regressor = DecisionTreeRegressor(max_depth=Number_of_Features,\n",
        "                                         splitter='best',\n",
        "                                         criterion=\"mse\",\n",
        "                                         min_samples_leaf=3)\n",
        "    \n",
        "    # fit the DT regressor\n",
        "    DT_regressor.fit(X_train, y_train)\n",
        "    \n",
        "    y_pred = DT_regressor.predict(X_train)\n",
        "    \n",
        "    MSE = np.sum(((y_train - y_pred) ** 2) / len(y_test))\n",
        "    print(f'MSE on Train = {MSE}')\n",
        "    \n",
        "    y_pred = DT_regressor.predict(X_test)\n",
        "    \n",
        "    MSE = np.sum(((y_test - y_pred) ** 2) / len(y_test))\n",
        "    print(f'MSE on Test = {MSE}')\n",
        "    \n",
        "    RMSE = np.sqrt(np.sum(((y_test - y_pred) ** 2) / len(y_test)))\n",
        "    print(f'RMSE = {RMSE}')\n",
        "    \n",
        "    MAE = np.sqrt(np.sum(abs(y_test - y_pred) / len(y_test)))\n",
        "    print(f'MAE = {MAE}')\n",
        "    \n",
        "    score = DT_regressor.score(X_test, y_test)\n",
        "    print(f'Score = {score}\\n\\n')\n",
        "\n",
        "    ### save the model to disk\n",
        "    \n",
        "    pickle.dump(DT_regressor, open(filename, 'wb'))\n",
        "\n",
        "    return y_pred\n",
        "\n",
        "  else:\n",
        "\n",
        "    ###load the model from disk\n",
        "    url='https://github.com/hdemma/hdemma.github.io/blob/develop/Dataset/PredictionModels/Diesel/finalized_DT_model.sav'\n",
        "    print('\\nError')\n",
        "    model = !wget url\n",
        "    print(model)\n",
        "    loaded_model = pickle.load(open(url, 'rb'))\n",
        "    y_pred = loaded_model.predict(X_test)\n",
        "    score = loaded_model.score(X_test,y_test)\n",
        "    print(f'R^2 Score = {score}')\n",
        "\n",
        "    return y_pred"
      ],
      "execution_count": 0,
      "outputs": []
    },
    {
      "cell_type": "markdown",
      "metadata": {
        "id": "qtF5TCDbIJgq",
        "colab_type": "text"
      },
      "source": [
        "# Linear Regression Model"
      ]
    },
    {
      "cell_type": "code",
      "metadata": {
        "id": "4Jndt7n3IJgq",
        "colab_type": "code",
        "colab": {}
      },
      "source": [
        "def LinearRegression_Model():\n",
        "\n",
        "  filename = f'{Folder}/PredictionModels/Diesel/finalized_LR_model.sav'\n",
        "\n",
        "  if Train:\n",
        "    regression_model = LinearRegression(fit_intercept=True, normalize=True)\n",
        "    \n",
        "    # fit the regressor\n",
        "    regression_model.fit(X_train, y_train)\n",
        "    \n",
        "    # regression coefficients\n",
        "    print('Coefficients for each feature:')\n",
        "    print(regression_model.coef_)\n",
        "    \n",
        "    R_Square = regression_model.score(X_test, y_test)  # 1 is perfect prediction\n",
        "    print(f'R_Square = {R_Square}')\n",
        "    \n",
        "    y_pred = regression_model.predict(X_train)\n",
        "    \n",
        "    regression_model_mse = mean_squared_error(y_train, y_pred)\n",
        "    regression_model_mae = mean_absolute_error(y_train, y_pred)\n",
        "    \n",
        "    print(f'regression_model_mse on Train = {regression_model_mse}')\n",
        "    print(f'regression_model_mae on Train = {regression_model_mae}')\n",
        "    \n",
        "    y_pred = regression_model.predict(X_test)\n",
        "    \n",
        "    regression_model_mse = mean_squared_error(y_test, y_pred)\n",
        "    regression_model_mae = mean_absolute_error(y_test, y_pred)\n",
        "    \n",
        "    print(f'regression_model_mse on Test = {regression_model_mse}')\n",
        "    print(f'regression_model_mae on test = {regression_model_mae}')\n",
        "\n",
        "\n",
        "    ### save the model to disk\n",
        "    pickle.dump(regression_model, open(filename, 'wb'))\n",
        "    \n",
        "    return y_pred\n",
        "\n",
        "  else:\n",
        "\n",
        "    ###load the model from disk\n",
        "    loaded_model = pickle.load(open(filename, 'rb'))\n",
        "    y_pred = loaded_model.predict(X_test)\n",
        "    score = loaded_model.score(X_test,y_test)\n",
        "    print(f'R^2 Score = {score}')\n",
        "\n",
        "    return y_pred"
      ],
      "execution_count": 0,
      "outputs": []
    },
    {
      "cell_type": "markdown",
      "metadata": {
        "id": "GQvoQAUWIJgt",
        "colab_type": "text"
      },
      "source": [
        "# Plotting Predicted vs Actual"
      ]
    },
    {
      "cell_type": "code",
      "metadata": {
        "id": "GlkxXFeuIJgt",
        "colab_type": "code",
        "colab": {}
      },
      "source": [
        "def Plotting_Pred_Actual(Model_Name,Actual_Values,PredictedValues,Length_of_TestData,Count):\n",
        "\n",
        "    #Each iteration will plot results for 25 samples.\n",
        "    \n",
        "    initial = 0\n",
        "    final = 25\n",
        "    for initial in range(0,Length_of_TestData+1,25):\n",
        "        Samples = list(range(initial,final,1))\n",
        "    \n",
        "        plt.grid(color='b', linestyle='--', linewidth=0.1)\n",
        "        plt.plot(PredictedValues[initial:final],'*',color = 'k')\n",
        "        plt.plot(Actual_Values[initial:final], '--',marker = 'o',color = 'r')\n",
        "        plt.xlabel(f'Samples from {initial} to {final-1}',size = 20)#,weight='bold')\n",
        "        xi = [i for i in range(0,len(Samples),1)]\n",
        "        plt.xticks(xi,Samples,rotation=90)\n",
        "    \n",
        "        plt.ylabel('Energy Consumption',size=20)#,weight='bold')\n",
        "        plt.title(f'Predicted Energy Consumption vs Actual Energy Consumption\\n{Model_Name}',size=20)#,weight='bold')\n",
        "        plt.legend(('Predicted Value', 'Actual Value'),\n",
        "                   loc='upper right',fontsize = 'x-large')\n",
        "    \n",
        "    \n",
        "        plt.show()\n",
        "\n",
        "        final = final + 25\n",
        "        \n",
        "        if final > Length_of_TestData:\n",
        "            final = Length_of_TestData\n",
        "        \n",
        "        if final>Count:  #will plot for the first 50 Samples\n",
        "            break"
      ],
      "execution_count": 0,
      "outputs": []
    },
    {
      "cell_type": "markdown",
      "metadata": {
        "id": "4VraCzMxIJgv",
        "colab_type": "text"
      },
      "source": [
        "# Saving Results in files"
      ]
    },
    {
      "cell_type": "code",
      "metadata": {
        "id": "JJ7IGPVpIJgw",
        "colab_type": "code",
        "colab": {}
      },
      "source": [
        "def Save_Results_to_Files(Model_Name,Actual_Values,PredictedValues,Time_needed):\n",
        "\n",
        "    Abs_Loss = []\n",
        "    for i in range(0,len(Actual_Values)):\n",
        "        Abs_Loss.append(abs(PredictedValues[i] - Actual_Values[i]))\n",
        "\n",
        "    Abs_Loss = np.array(Abs_Loss)\n",
        "    PredictedValues = np.array(PredictedValues)\n",
        "    Actual_Values=np.array(Actual_Values)\n",
        "    Loss_in_Percentage = []\n",
        "\n",
        "\n",
        "\n",
        "    Predicted_Fuel_Consumption = pd.DataFrame({\"Predicted_Values\": PredictedValues,\n",
        "                                                \"Actual_Values\":Actual_Values,\n",
        "                                               \"Abs_Loss\":Abs_Loss,\n",
        "                                                \"Time_needed\":Time_needed})\n",
        "\n",
        "    CSV_Name_Loss = f'{Model_Name}_Predicted_Fuel_Consumption_for_{Vehicle_Type}.csv'\n",
        "    Predicted_Fuel_Consumption.to_csv(f'{Folder}/Results/Diesel/{CSV_Name_Loss}',index=False)\n",
        "    print('\\n\\n***********CSV Saved************\\n')"
      ],
      "execution_count": 0,
      "outputs": []
    },
    {
      "cell_type": "markdown",
      "metadata": {
        "id": "QBowdSeRIJg0",
        "colab_type": "text"
      },
      "source": [
        "# Prediction with Different Network"
      ]
    },
    {
      "cell_type": "code",
      "metadata": {
        "id": "JRozIQFUIJg0",
        "colab_type": "code",
        "colab": {
          "base_uri": "https://localhost:8080/",
          "height": 504
        },
        "outputId": "ceeefa3d-521b-4e9e-a006-5784cf1ff3b6"
      },
      "source": [
        "Models = ['DecisionTree','SimpleFeedForward','LinearRegression']\n",
        "\n",
        "Actual_Values = y_test\n",
        "Train = False\n",
        "\n",
        "for Model_Name in Models:\n",
        "\n",
        "    if Model_Name == 'LinearRegression':\n",
        "        print('\\n\\n\\n*************Executing LR*************\\n\\n')\n",
        "        PredictedValues = LinearRegression_Model()\n",
        "\n",
        "    if Model_Name == 'DecisionTree':\n",
        "        print('\\n\\n\\n*************Executing DT*************\\n\\n')\n",
        "        PredictedValues = DecisionTree_Model()\n",
        "\n",
        "    if Model_Name == 'SimpleFeedForward':\n",
        "        print('\\n\\n\\n*************Executing FF*************\\n\\n')\n",
        "        # number_of_iteration = 800\n",
        "        PredictedValues_FF = SimpleFeedForward_Model()\n",
        "        Model_Name = 'SimpleFeedForward'\n",
        "        PredictedValues = []\n",
        "        for i in PredictedValues_FF:\n",
        "            for j in i:\n",
        "                PredictedValues.append(j)\n",
        "        print(len(PredictedValues))\n",
        "\n",
        "    ## Plot outputs\n",
        "    Count = 50             #Indicates Plotting for how many samples\n",
        "    Plotting_Pred_Actual(Model_Name,Actual_Values,PredictedValues,Length_of_TestData,Count)\n",
        "\n",
        "\n",
        "    ## Creating a CSV with the predicted values\n",
        "\n",
        "    Save_Results_to_Files(Model_Name,Actual_Values,PredictedValues,Time_needed)\n"
      ],
      "execution_count": 26,
      "outputs": [
        {
          "output_type": "stream",
          "text": [
            "\n",
            "\n",
            "\n",
            "*************Executing DT*************\n",
            "\n",
            "\n",
            "\n",
            "Error\n",
            "['--2020-05-20 18:37:20--  http://url/', 'Resolving url (url)... failed: Name or service not known.', 'wget: unable to resolve host address ‘url’']\n"
          ],
          "name": "stdout"
        },
        {
          "output_type": "error",
          "ename": "FileNotFoundError",
          "evalue": "ignored",
          "traceback": [
            "\u001b[0;31m---------------------------------------------------------------------------\u001b[0m",
            "\u001b[0;31mFileNotFoundError\u001b[0m                         Traceback (most recent call last)",
            "\u001b[0;32m<ipython-input-26-81ac4b769bb1>\u001b[0m in \u001b[0;36m<module>\u001b[0;34m()\u001b[0m\n\u001b[1;32m     12\u001b[0m     \u001b[0;32mif\u001b[0m \u001b[0mModel_Name\u001b[0m \u001b[0;34m==\u001b[0m \u001b[0;34m'DecisionTree'\u001b[0m\u001b[0;34m:\u001b[0m\u001b[0;34m\u001b[0m\u001b[0;34m\u001b[0m\u001b[0m\n\u001b[1;32m     13\u001b[0m         \u001b[0mprint\u001b[0m\u001b[0;34m(\u001b[0m\u001b[0;34m'\\n\\n\\n*************Executing DT*************\\n\\n'\u001b[0m\u001b[0;34m)\u001b[0m\u001b[0;34m\u001b[0m\u001b[0;34m\u001b[0m\u001b[0m\n\u001b[0;32m---> 14\u001b[0;31m         \u001b[0mPredictedValues\u001b[0m \u001b[0;34m=\u001b[0m \u001b[0mDecisionTree_Model\u001b[0m\u001b[0;34m(\u001b[0m\u001b[0;34m)\u001b[0m\u001b[0;34m\u001b[0m\u001b[0;34m\u001b[0m\u001b[0m\n\u001b[0m\u001b[1;32m     15\u001b[0m \u001b[0;34m\u001b[0m\u001b[0m\n\u001b[1;32m     16\u001b[0m     \u001b[0;32mif\u001b[0m \u001b[0mModel_Name\u001b[0m \u001b[0;34m==\u001b[0m \u001b[0;34m'SimpleFeedForward'\u001b[0m\u001b[0;34m:\u001b[0m\u001b[0;34m\u001b[0m\u001b[0;34m\u001b[0m\u001b[0m\n",
            "\u001b[0;32m<ipython-input-25-a766608e8413>\u001b[0m in \u001b[0;36mDecisionTree_Model\u001b[0;34m()\u001b[0m\n\u001b[1;32m     43\u001b[0m     \u001b[0mmodel\u001b[0m \u001b[0;34m=\u001b[0m \u001b[0mget_ipython\u001b[0m\u001b[0;34m(\u001b[0m\u001b[0;34m)\u001b[0m\u001b[0;34m.\u001b[0m\u001b[0mgetoutput\u001b[0m\u001b[0;34m(\u001b[0m\u001b[0;34m'wget url'\u001b[0m\u001b[0;34m)\u001b[0m\u001b[0;34m\u001b[0m\u001b[0;34m\u001b[0m\u001b[0m\n\u001b[1;32m     44\u001b[0m     \u001b[0mprint\u001b[0m\u001b[0;34m(\u001b[0m\u001b[0mmodel\u001b[0m\u001b[0;34m)\u001b[0m\u001b[0;34m\u001b[0m\u001b[0;34m\u001b[0m\u001b[0m\n\u001b[0;32m---> 45\u001b[0;31m     \u001b[0mloaded_model\u001b[0m \u001b[0;34m=\u001b[0m \u001b[0mpickle\u001b[0m\u001b[0;34m.\u001b[0m\u001b[0mload\u001b[0m\u001b[0;34m(\u001b[0m\u001b[0mopen\u001b[0m\u001b[0;34m(\u001b[0m\u001b[0murl\u001b[0m\u001b[0;34m,\u001b[0m \u001b[0;34m'rb'\u001b[0m\u001b[0;34m)\u001b[0m\u001b[0;34m)\u001b[0m\u001b[0;34m\u001b[0m\u001b[0;34m\u001b[0m\u001b[0m\n\u001b[0m\u001b[1;32m     46\u001b[0m     \u001b[0my_pred\u001b[0m \u001b[0;34m=\u001b[0m \u001b[0mloaded_model\u001b[0m\u001b[0;34m.\u001b[0m\u001b[0mpredict\u001b[0m\u001b[0;34m(\u001b[0m\u001b[0mX_test\u001b[0m\u001b[0;34m)\u001b[0m\u001b[0;34m\u001b[0m\u001b[0;34m\u001b[0m\u001b[0m\n\u001b[1;32m     47\u001b[0m     \u001b[0mscore\u001b[0m \u001b[0;34m=\u001b[0m \u001b[0mloaded_model\u001b[0m\u001b[0;34m.\u001b[0m\u001b[0mscore\u001b[0m\u001b[0;34m(\u001b[0m\u001b[0mX_test\u001b[0m\u001b[0;34m,\u001b[0m\u001b[0my_test\u001b[0m\u001b[0;34m)\u001b[0m\u001b[0;34m\u001b[0m\u001b[0;34m\u001b[0m\u001b[0m\n",
            "\u001b[0;31mFileNotFoundError\u001b[0m: [Errno 2] No such file or directory: 'https://github.com/hdemma/hdemma.github.io/blob/develop/Dataset/PredictionModels/Diesel/finalized_DT_model.sav'"
          ]
        }
      ]
    }
  ]
}